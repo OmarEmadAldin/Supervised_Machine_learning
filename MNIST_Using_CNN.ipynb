{
 "cells": [
  {
   "cell_type": "code",
   "execution_count": null,
   "metadata": {},
   "outputs": [],
   "source": [
    "import numpy as np \n",
    "import pandas as pd \n",
    "import seaborn as sns \n",
    "import matplotlib.pyplot as plt \n",
    "import cv2"
   ]
  },
  {
   "cell_type": "code",
   "execution_count": null,
   "metadata": {},
   "outputs": [],
   "source": [
    "from tensorflow.keras.datasets import fashion_mnist\n",
    "from tensorflow.keras.utils import to_categorical"
   ]
  },
  {
   "cell_type": "code",
   "execution_count": null,
   "metadata": {},
   "outputs": [],
   "source": [
    "(x_train, y_train), (x_test, y_test) = fashion_mnist.load_data() x_train.shape, y_train.shape, x_test.shape, y_test.shape"
   ]
  },
  {
   "cell_type": "code",
   "execution_count": null,
   "metadata": {},
   "outputs": [],
   "source": [
    "x_train = x_train / 255 \n",
    "x_test = x_test / 255 \n",
    "x_train = x_train.reshape(-1, 28, 28, 1) \n",
    "x_test = x_test.reshape(-1, 28, 28, 1)"
   ]
  },
  {
   "cell_type": "code",
   "execution_count": null,
   "metadata": {},
   "outputs": [],
   "source": [
    "y_train_categorical = to_categorical(y_train) \n",
    "y_test_categorical = to_categorical(y_test)"
   ]
  },
  {
   "cell_type": "code",
   "execution_count": null,
   "metadata": {},
   "outputs": [],
   "source": [
    "from sklearn.model_selection import train_test_split\n",
    "x_train, x_valid, y_train, y_valid = train_test_split(x_train, y_train_categorical, test_size = 0.2, random_state = 42)"
   ]
  },
  {
   "cell_type": "code",
   "execution_count": null,
   "metadata": {},
   "outputs": [],
   "source": [
    "num_classes = 10\n",
    "from tensorflow.keras.models import Sequential\n",
    "from tensorflow.keras.layers import Dense, Dropout, Flatten, Activation\n",
    "from tensorflow.keras.layers import Conv2D, MaxPooling2D\n",
    "from tensorflow.keras.optimizers import Adam\n",
    "from tensorflow.keras.layers import LeakyReLU"
   ]
  },
  {
   "cell_type": "code",
   "execution_count": null,
   "metadata": {},
   "outputs": [],
   "source": [
    "mnist_model = Sequential()\n",
    "mnist_model.add(Conv2D(32, kernel_size = (3, 3), padding = 'same', activation = 'linear',input_shape = (28,28,1)))\n",
    "mnist_model.add(LeakyReLU(alpha = 0.1))\n",
    "mnist_model.add(MaxPooling2D((2, 2), padding = 'same'))\n",
    "mnist_model.add(Dropout(0.25))\n",
    "mnist_model.add(Conv2D(64, (3, 3), padding = 'same', activation = 'linear'))\n",
    "mnist_model.add(LeakyReLU(alpha = 0.1))\n",
    "mnist_model.add(MaxPooling2D(pool_size = (2, 2), padding = 'same'))\n",
    "mnist_model.add(Dropout(0.25))\n",
    "mnist_model.add(Conv2D(128, (3, 3), padding = 'same', activation = 'linear'))\n",
    "mnist_model.add(LeakyReLU(alpha = 0.1))\n",
    "mnist_model.add(MaxPooling2D(pool_size = (2, 2),padding = 'same'))\n",
    "mnist_model.add(Dropout(0.4))\n",
    "mnist_model.add(Flatten())\n",
    "mnist_model.add(Dense(128, activation = 'linear'))\n",
    "mnist_model.add(LeakyReLU(alpha = 0.1))\n",
    "mnist_model.add(Dropout(0.3))\n",
    "mnist_model.add(Dense(num_classes, activation = 'softmax'))"
   ]
  },
  {
   "cell_type": "code",
   "execution_count": null,
   "metadata": {},
   "outputs": [],
   "source": [
    "mnist_model.summary()"
   ]
  },
  {
   "cell_type": "code",
   "execution_count": null,
   "metadata": {},
   "outputs": [],
   "source": [
    "mnist_model.compile(optimizer = 'Adam', loss = 'categorical_crossentropy', metrics = ['accuracy'])\n",
    "mnist = mnist_model.fit(x_train, y_train , batch_size = 64, epochs = 5,validation_data = (x_valid, y_valid))"
   ]
  },
  {
   "cell_type": "code",
   "execution_count": null,
   "metadata": {},
   "outputs": [],
   "source": [
    "evaluation_test = mnist_model.evaluate(x_test, y_test_categorical, verbose = 0)\n",
    "print(\"Accuracy = \", evaluation_test[1])\n",
    "print(\"Loss = \", evaluation_test[0])"
   ]
  }
 ],
 "metadata": {
  "language_info": {
   "name": "python"
  },
  "orig_nbformat": 4
 },
 "nbformat": 4,
 "nbformat_minor": 2
}
